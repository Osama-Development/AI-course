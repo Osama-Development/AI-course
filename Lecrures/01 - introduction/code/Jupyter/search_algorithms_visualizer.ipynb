{
 "cells": [
  {
   "cell_type": "markdown",
   "id": "741b4b3d-32d5-4e5e-a628-601c1681d8e4",
   "metadata": {},
   "source": [
    "المرحلة 0: استيراد المكاتب"
   ]
  },
  {
   "cell_type": "code",
   "execution_count": 1,
   "id": "925dcd5f-7f1b-4e9e-a1e6-5643f453f8b6",
   "metadata": {},
   "outputs": [
    {
     "name": "stdout",
     "output_type": "stream",
     "text": [
      "pygame 2.6.1 (SDL 2.28.4, Python 3.12.9)\n",
      "Hello from the pygame community. https://www.pygame.org/contribute.html\n"
     ]
    },
    {
     "name": "stderr",
     "output_type": "stream",
     "text": [
      "C:\\Users\\Osamm\\My_DS_Project\\ds_env\\Lib\\site-packages\\pygame\\pkgdata.py:25: UserWarning: pkg_resources is deprecated as an API. See https://setuptools.pypa.io/en/latest/pkg_resources.html. The pkg_resources package is slated for removal as early as 2025-11-30. Refrain from using this package or pin to Setuptools<81.\n",
      "  from pkg_resources import resource_stream, resource_exists\n"
     ]
    }
   ],
   "source": [
    "import pygame\n",
    "import math\n",
    "from collections import deque      # لاستخدام طابور (Queue) فعال في خوارزمية BFS\n",
    "from queue import PriorityQueue  # لاستخدام طابور الأولوية (Priority Queue) في خوارزمية A*"
   ]
  },
  {
   "cell_type": "markdown",
   "id": "c53edd26-6068-4a45-8a0a-e96409e3a1da",
   "metadata": {},
   "source": [
    "المرحلة 1: تعريف الثوابت والإعدادات العامة\n",
    "\n",
    "الهدف: مركزة كل الإعدادات الثابتة في مكان واحد لسهولة التعديل."
   ]
  },
  {
   "cell_type": "code",
   "execution_count": 2,
   "id": "bd2f9ba6-042d-40af-9333-ceeb94f7f9e2",
   "metadata": {},
   "outputs": [],
   "source": [
    "WIDTH = 800  # عرض النافذة بالبكسل\n",
    "ROWS = 50    # عدد الصفوف والأعمدة في الشبكة\n",
    "WIN = pygame.display.set_mode((WIDTH, WIDTH))\n",
    "pygame.display.set_caption(\"محلل المتاهة المرئي: A*, BFS, DFS\")"
   ]
  },
  {
   "cell_type": "code",
   "execution_count": 3,
   "id": "5a1c9644-985b-4c77-8e88-497f336522b6",
   "metadata": {},
   "outputs": [],
   "source": [
    "RED = (255, 0, 0)       # خلية مغلقة (تمت زيارتها)\n",
    "GREEN = (0, 255, 0)     # خلية مفتوحة (في قائمة الانتظار)\n",
    "BLUE = (0, 0, 255)      # خلية النهاية\n",
    "YELLOW = (255, 255, 0)  # خلية في المسار النهائي\n",
    "WHITE = (255, 255, 255) # خلية فارغة\n",
    "BLACK = (0, 0, 0)       # خلية جدار\n",
    "PURPLE = (128, 0, 128)  # خلية البداية\n",
    "GREY = (128, 128, 128)  # لون خطوط الشبكة"
   ]
  },
  {
   "cell_type": "code",
   "execution_count": 4,
   "id": "5839961d-5f58-451e-9144-32e451d2a1c9",
   "metadata": {},
   "outputs": [],
   "source": [
    "STATE_EMPTY = 0\n",
    "STATE_WALL = 1\n",
    "STATE_START = 2\n",
    "STATE_END = 3\n",
    "STATE_CLOSED = 4  # تمت زيارته\n",
    "STATE_OPEN = 5    # في قائمة الانتظار\n",
    "STATE_PATH = 6    # المسار النهائي"
   ]
  },
  {
   "cell_type": "code",
   "execution_count": 5,
   "id": "12fd7aaf-c727-46b0-a19a-cf5ad2f84e73",
   "metadata": {},
   "outputs": [],
   "source": [
    "STATE_COLORS = {\n",
    "    STATE_EMPTY: WHITE,\n",
    "    STATE_WALL: BLACK,\n",
    "    STATE_START: PURPLE,\n",
    "    STATE_END: BLUE,\n",
    "    STATE_CLOSED: RED,\n",
    "    STATE_OPEN: GREEN,\n",
    "    STATE_PATH: YELLOW\n",
    "}"
   ]
  },
  {
   "cell_type": "markdown",
   "id": "6f0d94bf-d51a-4a49-ba51-eee099adbc76",
   "metadata": {},
   "source": [
    "المرحلة 2: تعريف الدوال المساعدة للرسم والشبكة\n",
    "\n",
    "الهدف: إنشاء دوال مسؤولة عن عرض الشبكة وتحديثها، وتحديد تفاعل المستخدم معها، وإيجاد الخلايا المجاورة"
   ]
  },
  {
   "cell_type": "code",
   "execution_count": 6,
   "id": "d5f2e3c5-b9b7-4bc2-89a4-6a846a39dd0d",
   "metadata": {},
   "outputs": [],
   "source": [
    "def draw_grid(win, grid, rows, width):\n",
    "    \"\"\"دالة لرسم الشبكة بأكملها بناءً على حالاتها الرقمية.\"\"\"\n",
    "    win.fill(WHITE)\n",
    "    gap = width // rows\n",
    "    for row_idx, row in enumerate(grid):\n",
    "        for col_idx, state in enumerate(row):\n",
    "            color = STATE_COLORS[state]\n",
    "            pygame.draw.rect(win, color, (row_idx * gap, col_idx * gap, gap, gap))\n",
    "\n",
    "    # رسم خطوط الشبكة\n",
    "    for i in range(rows):\n",
    "        pygame.draw.line(win, GREY, (0, i * gap), (width, i * gap))\n",
    "        pygame.draw.line(win, GREY, (i * gap, 0), (i * gap, width))\n",
    "    pygame.display.update()"
   ]
  },
  {
   "cell_type": "code",
   "execution_count": 7,
   "id": "3e46daee-cff9-4572-8a8c-6d3b4faa66b5",
   "metadata": {},
   "outputs": [],
   "source": [
    "def get_clicked_pos(pos, rows, width):\n",
    "    \"\"\"تحول إحداثيات (x, y) بالبكسل إلى (صف, عمود) في الشبكة.\"\"\"\n",
    "    gap = width // rows\n",
    "    y, x = pos\n",
    "    row = y // gap\n",
    "    col = x // gap\n",
    "    return row, col"
   ]
  },
  {
   "cell_type": "code",
   "execution_count": 8,
   "id": "6d32955e-9989-4947-9aeb-ce225c5a1401",
   "metadata": {},
   "outputs": [],
   "source": [
    "def get_neighbors(pos, grid):\n",
    "    \"\"\"تجد الجيران الصالحين (ليسوا جدرانًا) لخلية معينة.\"\"\"\n",
    "    row, col = pos\n",
    "    neighbors = []\n",
    "    moves = [(1, 0), (-1, 0), (0, 1), (0, -1)]  # أسفل, أعلى, يمين, يسار\n",
    "    for move_r, move_c in moves:\n",
    "        n_row, n_col = row + move_r, col + move_c\n",
    "        # التحقق من أن الجار داخل حدود الشبكة\n",
    "        if 0 <= n_row < ROWS and 0 <= n_col < ROWS:\n",
    "            # التحقق من أن الجار ليس جداراً\n",
    "            if grid[n_row][n_col] != STATE_WALL:\n",
    "                neighbors.append((n_row, n_col))\n",
    "    return neighbors"
   ]
  },
  {
   "cell_type": "code",
   "execution_count": 9,
   "id": "83891fd4-0a26-43c6-b67b-f399a9c70595",
   "metadata": {},
   "outputs": [],
   "source": [
    "def reconstruct_path(parent_map, current_pos, grid):\n",
    "    \"\"\"تتتبع المسار من النهاية إلى البداية باستخدام قاموس الآباء وترسمه.\"\"\"\n",
    "    while current_pos in parent_map:\n",
    "        current_pos = parent_map[current_pos]\n",
    "        if grid[current_pos[0]][current_pos[1]] != STATE_START:\n",
    "            grid[current_pos[0]][current_pos[1]] = STATE_PATH"
   ]
  },
  {
   "cell_type": "markdown",
   "id": "9f230f18-7bc4-4658-b4d7-43775c8fc178",
   "metadata": {},
   "source": [
    "المرحلة 3: تطبيق خوارزميات البحث\n",
    "\n",
    "الهدف: تنفيذ المنطق الأساسي لكل خوارزمية بحث."
   ]
  },
  {
   "cell_type": "code",
   "execution_count": 10,
   "id": "e1bb8831-6177-4cf6-a556-4ba4774745a8",
   "metadata": {},
   "outputs": [],
   "source": [
    "def heuristic(pos1, pos2):\n",
    "    \"\"\"تحسب مسافة مانهاتن (Manhattan Distance) بين نقطتين.\"\"\"\n",
    "    x1, y1 = pos1\n",
    "    x2, y2 = pos2\n",
    "    return abs(x1 - x2) + abs(y1 - y2)"
   ]
  },
  {
   "cell_type": "code",
   "execution_count": 11,
   "id": "d6da3709-c6ec-40d6-b80b-af8fa1a54bde",
   "metadata": {},
   "outputs": [],
   "source": [
    "def bfs(grid, start_pos, end_pos, draw_func):\n",
    "    \"\"\"تنفذ خوارزمية BFS لإيجاد أقصر مسار (بأقل عدد من الخطوات).\"\"\"\n",
    "    queue = deque([start_pos])\n",
    "    visited = {start_pos}\n",
    "    parent_map = {}  # قاموس لتتبع المسار: {child_pos: parent_pos}\n",
    "\n",
    "    while queue:\n",
    "        for event in pygame.event.get():\n",
    "            if event.type == pygame.QUIT: pygame.quit()\n",
    "\n",
    "        current_pos = queue.popleft()\n",
    "        if current_pos == end_pos:\n",
    "            reconstruct_path(parent_map, current_pos, grid)\n",
    "            return True\n",
    "\n",
    "        if grid[current_pos[0]][current_pos[1]] not in [STATE_START, STATE_END]:\n",
    "            grid[current_pos[0]][current_pos[1]] = STATE_CLOSED\n",
    "\n",
    "        for neighbor_pos in get_neighbors(current_pos, grid):\n",
    "            if neighbor_pos not in visited:\n",
    "                visited.add(neighbor_pos)\n",
    "                parent_map[neighbor_pos] = current_pos\n",
    "                queue.append(neighbor_pos)\n",
    "                if grid[neighbor_pos[0]][neighbor_pos[1]] != STATE_END:\n",
    "                    grid[neighbor_pos[0]][neighbor_pos[1]] = STATE_OPEN\n",
    "        \n",
    "        draw_func()  # تحديث الرسم بعد كل خطوة\n",
    "    return False"
   ]
  },
  {
   "cell_type": "code",
   "execution_count": 12,
   "id": "5aee6a94-57c4-4e98-82fd-2a6f0a99b03c",
   "metadata": {},
   "outputs": [],
   "source": [
    "def dfs(grid, start_pos, end_pos, draw_func):\n",
    "    \"\"\"تنفذ خوارزمية DFS (لا تضمن أقصر مسار).\"\"\"\n",
    "    stack = [start_pos]\n",
    "    visited = {start_pos}\n",
    "    parent_map = {}\n",
    "\n",
    "    while stack:\n",
    "        for event in pygame.event.get():\n",
    "            if event.type == pygame.QUIT: pygame.quit()\n",
    "\n",
    "        current_pos = stack.pop()\n",
    "        if current_pos == end_pos:\n",
    "            reconstruct_path(parent_map, current_pos, grid)\n",
    "            return True\n",
    "            \n",
    "        if grid[current_pos[0]][current_pos[1]] not in [STATE_START, STATE_END]:\n",
    "            grid[current_pos[0]][current_pos[1]] = STATE_CLOSED\n",
    "        \n",
    "        for neighbor_pos in reversed(get_neighbors(current_pos, grid)):\n",
    "            if neighbor_pos not in visited:\n",
    "                visited.add(neighbor_pos)\n",
    "                parent_map[neighbor_pos] = current_pos\n",
    "                stack.append(neighbor_pos)\n",
    "                if grid[neighbor_pos[0]][neighbor_pos[1]] != STATE_END:\n",
    "                    grid[neighbor_pos[0]][neighbor_pos[1]] = STATE_OPEN\n",
    "        draw_func()\n",
    "    return False"
   ]
  },
  {
   "cell_type": "code",
   "execution_count": 13,
   "id": "2ecd754b-4e28-4aa9-90b9-ed49a2aea292",
   "metadata": {},
   "outputs": [],
   "source": [
    "def a_star(grid, start_pos, end_pos, draw_func):\n",
    "    \"\"\"تنفذ خوارزمية A* الذكية لإيجاد أقصر مسار بكفاءة عالية.\"\"\"\n",
    "    count = 0\n",
    "    open_set = PriorityQueue()\n",
    "    open_set.put((0, count, start_pos))\n",
    "    open_set_hash = {start_pos}\n",
    "    \n",
    "    parent_map = {}\n",
    "    g_score = { (r,c): float(\"inf\") for r in range(ROWS) for c in range(ROWS) }\n",
    "    g_score[start_pos] = 0\n",
    "    f_score = { (r,c): float(\"inf\") for r in range(ROWS) for c in range(ROWS) }\n",
    "    f_score[start_pos] = heuristic(start_pos, end_pos)\n",
    "\n",
    "    while not open_set.empty():\n",
    "        for event in pygame.event.get():\n",
    "            if event.type == pygame.QUIT: pygame.quit()\n",
    "\n",
    "        current_pos = open_set.get()[2]\n",
    "        open_set_hash.remove(current_pos)\n",
    "\n",
    "        if current_pos == end_pos:\n",
    "            reconstruct_path(parent_map, current_pos, grid)\n",
    "            return True\n",
    "\n",
    "        for neighbor_pos in get_neighbors(current_pos, grid):\n",
    "            temp_g_score = g_score[current_pos] + 1\n",
    "            if temp_g_score < g_score[neighbor_pos]:\n",
    "                parent_map[neighbor_pos] = current_pos\n",
    "                g_score[neighbor_pos] = temp_g_score\n",
    "                f_score[neighbor_pos] = temp_g_score + heuristic(neighbor_pos, end_pos)\n",
    "                if neighbor_pos not in open_set_hash:\n",
    "                    count += 1\n",
    "                    open_set.put((f_score[neighbor_pos], count, neighbor_pos))\n",
    "                    open_set_hash.add(neighbor_pos)\n",
    "                    if grid[neighbor_pos[0]][neighbor_pos[1]] != STATE_END:\n",
    "                         grid[neighbor_pos[0]][neighbor_pos[1]] = STATE_OPEN\n",
    "        \n",
    "        draw_func()\n",
    "        if grid[current_pos[0]][current_pos[1]] not in [STATE_START, STATE_END]:\n",
    "            grid[current_pos[0]][current_pos[1]] = STATE_CLOSED\n",
    "    return False"
   ]
  },
  {
   "cell_type": "markdown",
   "id": "6a56cecf-a3e1-4b1a-9a4b-8080ad292854",
   "metadata": {},
   "source": [
    "لمرحلة 4: حلقة البرنامج الرئيسية (Main Loop)\n",
    "\n",
    "الهدف: إدارة تفاعل المستخدم مع البرنامج وتشغيل الخوارزميات."
   ]
  },
  {
   "cell_type": "code",
   "execution_count": 14,
   "id": "27fb6868-a620-4d5f-a21c-d693e5c7dfa7",
   "metadata": {},
   "outputs": [],
   "source": [
    "def main():\n",
    "    # --- الخطوة 4.1: تهيئة متغيرات اللعبة ---\n",
    "    grid = [[STATE_EMPTY for _ in range(ROWS)] for _ in range(ROWS)]\n",
    "    start_pos = None\n",
    "    end_pos = None\n",
    "    run = True\n",
    "\n",
    "    # --- الخطوة 4.2: بدء حلقة اللعبة الرئيسية ---\n",
    "    while run:\n",
    "        # 4.2.1: رسم الشبكة في كل إطار (frame)\n",
    "        draw_grid(WIN, grid, ROWS, WIDTH)\n",
    "\n",
    "        # 4.2.2: معالجة أحداث المستخدم (ضغطات الفأرة ولوحة المفاتيح)\n",
    "        for event in pygame.event.get():\n",
    "            # إغلاق البرنامج\n",
    "            if event.type == pygame.QUIT:\n",
    "                run = False\n",
    "\n",
    "            # التعامل مع ضغطات الفأرة\n",
    "            if pygame.mouse.get_pressed()[0]: # الزر الأيسر\n",
    "                pos = pygame.mouse.get_pos()\n",
    "                row, col = get_clicked_pos(pos, ROWS, WIDTH)\n",
    "                \n",
    "                if not start_pos:\n",
    "                    start_pos = (row, col)\n",
    "                    grid[row][col] = STATE_START\n",
    "                elif not end_pos and (row, col) != start_pos:\n",
    "                    end_pos = (row, col)\n",
    "                    grid[row][col] = STATE_END\n",
    "                elif (row, col) != start_pos and (row, col) != end_pos:\n",
    "                    grid[row][col] = STATE_WALL\n",
    "            \n",
    "            elif pygame.mouse.get_pressed()[2]: # الزر الأيمن (للمسح)\n",
    "                pos = pygame.mouse.get_pos()\n",
    "                row, col = get_clicked_pos(pos, ROWS, WIDTH)\n",
    "                if (row, col) == start_pos:\n",
    "                    start_pos = None\n",
    "                elif (row, col) == end_pos:\n",
    "                    end_pos = None\n",
    "                grid[row][col] = STATE_EMPTY\n",
    "\n",
    "            # التعامل مع ضغطات لوحة المفاتيح\n",
    "            if event.type == pygame.KEYDOWN:\n",
    "                # تشغيل الخوارزميات فقط إذا تم تحديد البداية والنهاية\n",
    "                if start_pos and end_pos:\n",
    "                    # قبل التشغيل، نظف الشبكة من محاولات البحث السابقة\n",
    "                    for r in range(ROWS):\n",
    "                        for c in range(ROWS):\n",
    "                            state = grid[r][c]\n",
    "                            if state in [STATE_OPEN, STATE_CLOSED, STATE_PATH]:\n",
    "                                grid[r][c] = STATE_EMPTY\n",
    "                    \n",
    "                    if event.key == pygame.K_a: # حرف A لتشغيل A*\n",
    "                        a_star(grid, start_pos, end_pos, lambda: draw_grid(WIN, grid, ROWS, WIDTH))\n",
    "                    if event.key == pygame.K_b: # حرف B لتشغيل BFS\n",
    "                        bfs(grid, start_pos, end_pos, lambda: draw_grid(WIN, grid, ROWS, WIDTH))\n",
    "                    if event.key == pygame.K_d: # حرف D لتشغيل DFS\n",
    "                        dfs(grid, start_pos, end_pos, lambda: draw_grid(WIN, grid, ROWS, WIDTH))\n",
    "\n",
    "                if event.key == pygame.K_c: # حرف C لمسح الكل (Clear)\n",
    "                    grid = [[STATE_EMPTY for _ in range(ROWS)] for _ in range(ROWS)]\n",
    "                    start_pos = None\n",
    "                    end_pos = None\n",
    "    \n",
    "    # --- الخطوة 4.3: إغلاق Pygame بأمان ---\n",
    "    pygame.quit()"
   ]
  },
  {
   "cell_type": "markdown",
   "id": "498e6287-e47f-423d-920d-1a763a40be87",
   "metadata": {},
   "source": [
    "المرحلة 5: نقطة انطلاق البرنامج\n",
    "\n",
    "الهدف: التأكد من أن البرنامج يبدأ التنفيذ فقط عند تشغيل الملف مباشرةً.\n"
   ]
  },
  {
   "cell_type": "code",
   "execution_count": null,
   "id": "df40f04f-8b98-4546-90f4-c605b48179c0",
   "metadata": {},
   "outputs": [],
   "source": [
    "if __name__ == \"__main__\":\n",
    "    main()"
   ]
  },
  {
   "cell_type": "markdown",
   "id": "e7e435d0-1ff3-4f11-8a5e-cc8c2926f2f5",
   "metadata": {},
   "source": []
  }
 ],
 "metadata": {
  "kernelspec": {
   "display_name": "Python (My DS Project)",
   "language": "python",
   "name": "ds_env"
  },
  "language_info": {
   "codemirror_mode": {
    "name": "ipython",
    "version": 3
   },
   "file_extension": ".py",
   "mimetype": "text/x-python",
   "name": "python",
   "nbconvert_exporter": "python",
   "pygments_lexer": "ipython3",
   "version": "3.12.9"
  }
 },
 "nbformat": 4,
 "nbformat_minor": 5
}
