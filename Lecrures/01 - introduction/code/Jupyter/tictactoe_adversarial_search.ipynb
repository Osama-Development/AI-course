{
 "cells": [
  {
   "cell_type": "markdown",
   "id": "9a3b74d6-dc29-4a49-b880-64189a4235a2",
   "metadata": {},
   "source": [
    "المرحلة 0: استيراد المكتبات وتجهيز البيئة\n",
    "\n",
    "الهدف: تحميل الوحدات البرمجية اللازمة وإعداد بيئة التنفيذ لضمان عمل الألوان بشكل صحيح."
   ]
  },
  {
   "cell_type": "code",
   "execution_count": 1,
   "id": "3ef43649-e368-429a-a5ab-0dee8edd8419",
   "metadata": {},
   "outputs": [],
   "source": [
    "import math  # للتعامل مع قيم لا نهائية (infinity) في خوارزمية Minimax\n",
    "import time  # لإضافة تأخير بسيط بين الحركات لجعل اللعبة أكثر واقعية\n",
    "import os    # لتشغيل أوامر النظام، هنا لتفعيل رموز الألوان في ويندوز"
   ]
  },
  {
   "cell_type": "code",
   "execution_count": 32,
   "id": "649b6900-8b11-4e17-8f84-77ccd2cee870",
   "metadata": {},
   "outputs": [
    {
     "data": {
      "text/plain": [
       "0"
      ]
     },
     "execution_count": 32,
     "metadata": {},
     "output_type": "execute_result"
    }
   ],
   "source": [
    "os.system('')"
   ]
  },
  {
   "cell_type": "markdown",
   "id": "92602e19-e57a-43aa-8f1c-b6baa70adb42",
   "metadata": {},
   "source": [
    "المرحلة 1: تعريف الثوابت والمتغيرات العامة\n",
    "\n",
    "الهدف: مركزة كل القيم الثابتة في مكان واحد لسهولة التعديل عليها مستقبلاً."
   ]
  },
  {
   "cell_type": "code",
   "execution_count": 33,
   "id": "d974be0a-4bdb-4b72-aad7-4e6f3a468430",
   "metadata": {},
   "outputs": [],
   "source": [
    "COLOR_RED = '\\033[91m'     # لون اللاعب 'X' (الكمبيوتر)\n",
    "COLOR_BLUE = '\\033[94m'    # لون اللاعب 'O' (الإنسان)\n",
    "COLOR_WHITE = '\\033[97m'   # لون أرقام الخانات المتاحة\n",
    "COLOR_RESET = '\\033[0m'    # رمز لإعادة تعيين اللون إلى الوضع الافتراضي"
   ]
  },
  {
   "cell_type": "code",
   "execution_count": 34,
   "id": "fb89438b-48b6-43aa-87a9-16f18cd62836",
   "metadata": {},
   "outputs": [],
   "source": [
    "AI_PLAYER = 'X'\n",
    "HUMAN_PLAYER = 'O'"
   ]
  },
  {
   "cell_type": "markdown",
   "id": "c1b45c3b-27d6-44e9-ae78-6fde881c32b1",
   "metadata": {},
   "source": [
    "المرحلة 2: تعريف دوال إدارة اللوحة واللعبة\n",
    "\n",
    "الهدف: إنشاء مجموعة من الدوال المسؤولة عن كل ما يتعلق بحالة اللوحة واللعبة."
   ]
  },
  {
   "cell_type": "code",
   "execution_count": 35,
   "id": "31ada3e1-086e-46de-ab31-804c08ed1ed4",
   "metadata": {},
   "outputs": [],
   "source": [
    "def create_game():\n",
    "    \"\"\"تنشئ قاموسًا جديدًا يمثل حالة اللعبة في بدايتها.\"\"\"\n",
    "    return {\n",
    "        'board': [' ' for _ in range(9)],\n",
    "        'winner': None\n",
    "    }"
   ]
  },
  {
   "cell_type": "code",
   "execution_count": 36,
   "id": "b11ee35f-2de1-45d1-86b6-6b78c067b714",
   "metadata": {},
   "outputs": [],
   "source": [
    "def print_board(board):\n",
    "    \"\"\"تطبع اللوحة الحالية مع تلوين قطع اللاعبين.\"\"\"\n",
    "    for row_indices in [range(j*3, (j+1)*3) for j in range(3)]:\n",
    "        colored_row = []\n",
    "        for i in row_indices:\n",
    "            spot = board[i]\n",
    "            if spot == AI_PLAYER:\n",
    "                colored_row.append(f\"{COLOR_RED}{spot}{COLOR_RESET}\")\n",
    "            elif spot == HUMAN_PLAYER:\n",
    "                colored_row.append(f\"{COLOR_BLUE}{spot}{COLOR_RESET}\")\n",
    "            else:\n",
    "                colored_row.append(spot)\n",
    "        print('| ' + ' | '.join(colored_row) + ' |')"
   ]
  },
  {
   "cell_type": "code",
   "execution_count": 37,
   "id": "3938a7a4-1c28-407c-a476-b3c920abcbcc",
   "metadata": {},
   "outputs": [],
   "source": [
    "def print_available_moves_board(board):\n",
    "    \"\"\"تطبع لوحة توضيحية تظهر فيها أرقام الخانات الفارغة المتاحة للعب.\"\"\"\n",
    "    colored_board = []\n",
    "    for i, spot in enumerate(board):\n",
    "        if spot == AI_PLAYER:\n",
    "            colored_board.append(f\"{COLOR_RED}{spot}{COLOR_RESET}\")\n",
    "        elif spot == HUMAN_PLAYER:\n",
    "            colored_board.append(f\"{COLOR_BLUE}{spot}{COLOR_RESET}\")\n",
    "        else:\n",
    "            colored_board.append(f\"{COLOR_WHITE}{str(i)}{COLOR_RESET}\")\n",
    "    \n",
    "    print(\"الخانات المتاحة:\")\n",
    "    for row_indices in [range(j*3, (j+1)*3) for j in range(3)]:\n",
    "        row_str = [colored_board[i] for i in row_indices]\n",
    "        print('| ' + ' | '.join(row_str) + ' |')"
   ]
  },
  {
   "cell_type": "code",
   "execution_count": 38,
   "id": "6824fb7b-0be7-42e7-b357-fb4127ba70d3",
   "metadata": {},
   "outputs": [],
   "source": [
    "def available_moves(board):\n",
    "    \"\"\"ترجع قائمة بفهارس جميع الخانات الفارغة (' ') على اللوحة.\"\"\"\n",
    "    return [i for i, spot in enumerate(board) if spot == ' ']"
   ]
  },
  {
   "cell_type": "code",
   "execution_count": 39,
   "id": "15f23681-701b-47e1-ac15-45ad9242f616",
   "metadata": {},
   "outputs": [],
   "source": [
    "def check_winner(board, letter, square):\n",
    "    \"\"\"تتحقق مما إذا كان اللاعب 'letter' قد فاز بعد لعبه في الخانة 'square'.\"\"\"\n",
    "    # التحقق من الصف الذي تقع فيه الحركة\n",
    "    row_ind = square // 3\n",
    "    row = board[row_ind*3 : (row_ind+1)*3]\n",
    "    if all([spot == letter for spot in row]):\n",
    "        return True\n",
    "        \n",
    "    # التحقق من العمود الذي تقع فيه الحركة\n",
    "    col_ind = square % 3\n",
    "    column = [board[col_ind+i*3] for i in range(3)]\n",
    "    if all([spot == letter for spot in column]):\n",
    "        return True\n",
    "        \n",
    "    # التحقق من الأقطار (فقط إذا كانت الحركة في مربع قطري)\n",
    "    if square % 2 == 0:\n",
    "        if all([board[i] == letter for i in [0, 4, 8]]): # القطر الرئيسي\n",
    "            return True\n",
    "        if all([board[i] == letter for i in [2, 4, 6]]): # القطر الثانوي\n",
    "            return True\n",
    "            \n",
    "    return False"
   ]
  },
  {
   "cell_type": "code",
   "execution_count": 40,
   "id": "ee97f6c9-2dad-4769-a67f-abe1e780df58",
   "metadata": {},
   "outputs": [],
   "source": [
    "def make_move(game_state, square, letter):\n",
    "    \"\"\"تنفذ الحركة على اللوحة وتحدث حالة الفائز إذا لزم الأمر.\"\"\"\n",
    "    if game_state['board'][square] == ' ':\n",
    "        game_state['board'][square] = letter\n",
    "        if check_winner(game_state['board'], letter, square):\n",
    "            game_state['winner'] = letter\n",
    "        return True\n",
    "    return False"
   ]
  },
  {
   "cell_type": "markdown",
   "id": "4aea0cd3-4756-43b6-9642-2b8a50ea993a",
   "metadata": {},
   "source": [
    "المرحلة 3: تعريف دوال اللاعبين (الإنسان والذكاء الاصطناعي)\n",
    "\n",
    "الهدف: فصل منطق كل لاعب في دالة خاصة به."
   ]
  },
  {
   "cell_type": "code",
   "execution_count": 41,
   "id": "962a5ff7-e3bd-4a15-b159-c5838cb9d83e",
   "metadata": {},
   "outputs": [],
   "source": [
    "def get_human_move(board):\n",
    "    \"\"\"تأخذ حركة من اللاعب البشري وتتحقق من صحتها.\"\"\"\n",
    "    valid_square = False\n",
    "    val = None\n",
    "    print_available_moves_board(board) # عرض الخيارات المتاحة قبل طلب الإدخال\n",
    "    while not valid_square:\n",
    "        prompt = f\"{COLOR_BLUE}{HUMAN_PLAYER}{COLOR_RESET} - حان دورك. أدخل رقم الخانة التي تريدها: \"\n",
    "        square_input = input(prompt)\n",
    "        try:\n",
    "            val = int(square_input)\n",
    "            if val not in available_moves(board): # التحقق من أن الخانة المختارة متاحة\n",
    "                raise ValueError\n",
    "            valid_square = True\n",
    "        except (ValueError, IndexError): # التعامل مع الإدخالات الخاطئة (نص أو رقم خارج النطاق)\n",
    "            print(f'{COLOR_RED}إدخال خاطئ. الرجاء اختيار رقم من الخانات المتاحة.{COLOR_RESET}')\n",
    "    return val"
   ]
  },
  {
   "cell_type": "code",
   "execution_count": 42,
   "id": "0d1dd2d7-c474-4c49-abda-20d6b32a3283",
   "metadata": {},
   "outputs": [],
   "source": [
    "def get_ai_move(board):\n",
    "    \"\"\"تحسب أفضل حركة للذكاء الاصطناعي باستخدام خوارزمية Minimax.\"\"\"\n",
    "    if board.count(' ') == 9:\n",
    "        return 4  # كاستراتيجية بداية، العب في المنتصف دائمًا لأنه أفضل مربع\n",
    "    else:\n",
    "        # استدعاء الخوارزمية الذكية لإيجاد أفضل حركة\n",
    "        best_move = minimax(board, AI_PLAYER)['position']\n",
    "        return best_move"
   ]
  },
  {
   "cell_type": "markdown",
   "id": "7b3403c6-0abd-4156-90db-1c5e376eb40a",
   "metadata": {},
   "source": [
    "المرحلة 4: تطبيق خوارزمية البحث التنافسي (Minimax)\n",
    "\n",
    "الهدف: بناء العقل المفكر للذكاء الاصطناعي."
   ]
  },
  {
   "cell_type": "code",
   "execution_count": 43,
   "id": "8d84c40b-9616-44eb-859c-17cd1dc93c0b",
   "metadata": {},
   "outputs": [],
   "source": [
    "def minimax(current_board, current_player):\n",
    "    \"\"\"خوارزمية Minimax التي تستكشف شجرة اللعبة لإيجاد الحركة المثلى.\"\"\"\n",
    "    \n",
    "    # الخطوة 4.1: تحديد اللاعبين في هذه الجولة\n",
    "    max_player = AI_PLAYER\n",
    "    other_player = HUMAN_PLAYER if current_player == AI_PLAYER else AI_PLAYER\n",
    "\n",
    "    # الخطوة 4.2: تحديد الحالات النهائية (Base Cases) التي توقف العودية\n",
    "    if not available_moves(current_board):\n",
    "        return {'position': None, 'score': 0}\n",
    "\n",
    "    # الخطوة 4.3: إعداد متغير لتخزين أفضل نتيجة\n",
    "    if current_player == max_player:\n",
    "        best = {'position': None, 'score': -math.inf} # نبدأ بسالب لانهاية لأننا نريد التعظيم\n",
    "    else:\n",
    "        best = {'position': None, 'score': math.inf}  # نبدأ بموجب لانهاية لأننا نريد التقليل\n",
    "\n",
    "    # الخطوة 4.4: استكشاف كل الحركات الممكنة (الخطوة العودية)\n",
    "    for possible_move in available_moves(current_board):\n",
    "        new_board = current_board[:]\n",
    "        new_board[possible_move] = current_player\n",
    "\n",
    "        if check_winner(new_board, current_player, possible_move):\n",
    "            score = 1 * (new_board.count(' ') + 1) if current_player == max_player else -1 * (new_board.count(' ') + 1)\n",
    "            return {'position': possible_move, 'score': score}\n",
    "        \n",
    "        sim_score = minimax(new_board, other_player)\n",
    "\n",
    "        if current_player == max_player:\n",
    "            if sim_score['score'] > best['score']:\n",
    "                best = {'position': possible_move, 'score': sim_score['score']}\n",
    "        else: # دور اللاعب MIN\n",
    "            if sim_score['score'] < best['score']:\n",
    "                best = {'position': possible_move, 'score': sim_score['score']}\n",
    "\n",
    "    # الخطوة 4.5: إرجاع أفضل حركة ونتيجتها لهذا الفرع\n",
    "    return best"
   ]
  },
  {
   "cell_type": "markdown",
   "id": "97468909-03e2-45bd-bf54-ebcc2fc1d256",
   "metadata": {},
   "source": [
    "المرحلة 5: حلقة اللعب الرئيسية التي تربط كل شيء معًا\n",
    "\n",
    "الهدف: إدارة تدفق اللعبة من البداية إلى النهاية، وربط جميع الدوال معًا لتكوين تجربة لعب متكاملة."
   ]
  },
  {
   "cell_type": "code",
   "execution_count": 44,
   "id": "c8e6bf02-65f0-4a7f-aeaf-7134689a4d89",
   "metadata": {},
   "outputs": [],
   "source": [
    "def run_game():\n",
    "    \"\"\"الدالة الرئيسية التي تدير تدفق اللعبة من البداية إلى النهاية.\"\"\"\n",
    "    \n",
    "    # الخطوة 5.1: إنشاء لعبة جديدة وتحديد اللاعب البادئ\n",
    "    game = create_game()\n",
    "    current_letter = AI_PLAYER # الكمبيوتر يبدأ دائمًا\n",
    "\n",
    "    # الخطوة 5.2: بدء حلقة اللعب الرئيسية\n",
    "    while ' ' in game['board'] and not game['winner']:\n",
    "        \n",
    "        if current_letter == AI_PLAYER:\n",
    "            square = get_ai_move(game['board'])\n",
    "            print(f\"الكمبيوتر ({COLOR_RED}{AI_PLAYER}{COLOR_RESET}) يختار الخانة رقم {square}\")\n",
    "        else:\n",
    "            square = get_human_move(game['board'])\n",
    "            print(f\"أنت ({COLOR_BLUE}{HUMAN_PLAYER}{COLOR_RESET}) اخترت الخانة رقم {square}\")\n",
    "\n",
    "        if make_move(game, square, current_letter):\n",
    "            print_board(game['board'])\n",
    "            print('') # طباعة سطر فارغ للفصل بين الأدوار\n",
    "\n",
    "        current_letter = HUMAN_PLAYER if current_letter == AI_PLAYER else AI_PLAYER\n",
    "        time.sleep(0.8)\n",
    "\n",
    "    # الخطوة 5.3: طباعة النتيجة النهائية بعد انتهاء اللعبة\n",
    "    if game['winner']:\n",
    "        winner_color = COLOR_RED if game['winner'] == AI_PLAYER else COLOR_BLUE\n",
    "        print(f\"{winner_color}اللاعب {game['winner']} فاز!{COLOR_RESET}\")\n",
    "    else:\n",
    "        print(\"انتهت اللعبة بالتعادل!\")"
   ]
  },
  {
   "cell_type": "markdown",
   "id": "340c1074-a053-4aec-8346-44fc327313b2",
   "metadata": {},
   "source": [
    "المرحلة 6: نقطة انطلاق البرنامج\n",
    "\n",
    "الهدف: التأكد من أن البرنامج يبدأ التنفيذ فقط عند تشغيل الملف مباشرة."
   ]
  },
  {
   "cell_type": "code",
   "execution_count": 45,
   "id": "caeb067f-75de-461f-aa1b-f2fbce8fef4d",
   "metadata": {},
   "outputs": [
    {
     "name": "stdout",
     "output_type": "stream",
     "text": [
      "الكمبيوتر (\u001b[91mX\u001b[0m) يختار الخانة رقم 4\n",
      "|   |   |   |\n",
      "|   | \u001b[91mX\u001b[0m |   |\n",
      "|   |   |   |\n",
      "\n",
      "الخانات المتاحة:\n",
      "| \u001b[97m0\u001b[0m | \u001b[97m1\u001b[0m | \u001b[97m2\u001b[0m |\n",
      "| \u001b[97m3\u001b[0m | \u001b[91mX\u001b[0m | \u001b[97m5\u001b[0m |\n",
      "| \u001b[97m6\u001b[0m | \u001b[97m7\u001b[0m | \u001b[97m8\u001b[0m |\n"
     ]
    },
    {
     "name": "stdin",
     "output_type": "stream",
     "text": [
      "\u001b[94mO\u001b[0m - حان دورك. أدخل رقم الخانة التي تريدها:  1\n"
     ]
    },
    {
     "name": "stdout",
     "output_type": "stream",
     "text": [
      "أنت (\u001b[94mO\u001b[0m) اخترت الخانة رقم 1\n",
      "|   | \u001b[94mO\u001b[0m |   |\n",
      "|   | \u001b[91mX\u001b[0m |   |\n",
      "|   |   |   |\n",
      "\n",
      "الكمبيوتر (\u001b[91mX\u001b[0m) يختار الخانة رقم 0\n",
      "| \u001b[91mX\u001b[0m | \u001b[94mO\u001b[0m |   |\n",
      "|   | \u001b[91mX\u001b[0m |   |\n",
      "|   |   |   |\n",
      "\n",
      "الخانات المتاحة:\n",
      "| \u001b[91mX\u001b[0m | \u001b[94mO\u001b[0m | \u001b[97m2\u001b[0m |\n",
      "| \u001b[97m3\u001b[0m | \u001b[91mX\u001b[0m | \u001b[97m5\u001b[0m |\n",
      "| \u001b[97m6\u001b[0m | \u001b[97m7\u001b[0m | \u001b[97m8\u001b[0m |\n"
     ]
    },
    {
     "name": "stdin",
     "output_type": "stream",
     "text": [
      "\u001b[94mO\u001b[0m - حان دورك. أدخل رقم الخانة التي تريدها:  2\n"
     ]
    },
    {
     "name": "stdout",
     "output_type": "stream",
     "text": [
      "أنت (\u001b[94mO\u001b[0m) اخترت الخانة رقم 2\n",
      "| \u001b[91mX\u001b[0m | \u001b[94mO\u001b[0m | \u001b[94mO\u001b[0m |\n",
      "|   | \u001b[91mX\u001b[0m |   |\n",
      "|   |   |   |\n",
      "\n",
      "الكمبيوتر (\u001b[91mX\u001b[0m) يختار الخانة رقم 8\n",
      "| \u001b[91mX\u001b[0m | \u001b[94mO\u001b[0m | \u001b[94mO\u001b[0m |\n",
      "|   | \u001b[91mX\u001b[0m |   |\n",
      "|   |   | \u001b[91mX\u001b[0m |\n",
      "\n",
      "\u001b[91mاللاعب X فاز!\u001b[0m\n"
     ]
    }
   ],
   "source": [
    "# if __name__ == '__main__':\n",
    "    run_game()"
   ]
  }
 ],
 "metadata": {
  "kernelspec": {
   "display_name": "Python (My DS Project)",
   "language": "python",
   "name": "ds_env"
  },
  "language_info": {
   "codemirror_mode": {
    "name": "ipython",
    "version": 3
   },
   "file_extension": ".py",
   "mimetype": "text/x-python",
   "name": "python",
   "nbconvert_exporter": "python",
   "pygments_lexer": "ipython3",
   "version": "3.12.9"
  }
 },
 "nbformat": 4,
 "nbformat_minor": 5
}
